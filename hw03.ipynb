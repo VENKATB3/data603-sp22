{
 "cells": [
  {
   "cell_type": "code",
   "execution_count": 15,
   "metadata": {},
   "outputs": [
    {
     "name": "stdout",
     "output_type": "stream",
     "text": [
      "Overwriting hw03-1.py\n"
     ]
    }
   ],
   "source": [
    "%%file hw03-1.py\n",
    "from mrjob.job import MRJob\n",
    "import csv\n",
    "class avg_word_count (MRJob):\n",
    "    def Mapper (self,_,line):\n",
    "        with open ('yelp.csv','r') as f:\n",
    "            avg_words=csv.reader('text',f)\n",
    "        yield \"avg_word_review\", len(avg_words.split(','))\n",
    "        \n",
    "    def Reducer(self,key,values):\n",
    "        yield key, sum(avg_words)/len(avg_words)\n",
    "        \n",
    "if __name__ == '__main__':\n",
    "    avg_word_count.run()       "
   ]
  },
  {
   "cell_type": "code",
   "execution_count": 16,
   "metadata": {},
   "outputs": [
    {
     "name": "stdout",
     "output_type": "stream",
     "text": [
      "Overwriting hw03-2.py\n"
     ]
    }
   ],
   "source": [
    "%%file hw03-2.py\n",
    "class review_count (MRJob):\n",
    "    from mrjob.job import MRJob\n",
    "    import csv\n",
    "    def Mapper (self,_,line):\n",
    "        with open ('yelp.csv','r') as f:\n",
    "            year_month=csv.reader('date',f)\n",
    "        with open ('yelp.csv','r') as f:\n",
    "            reiew=csv.reader('type',f)\n",
    "        yield y_mon[1],review\n",
    "        \n",
    "    def Reducer (self,key,values):\n",
    "        yield key, print(sum(values))\n",
    "        \n",
    "if __name__ = '__main__':\n",
    "    review_count.run()"
   ]
  },
  {
   "cell_type": "code",
   "execution_count": 17,
   "metadata": {},
   "outputs": [
    {
     "name": "stdout",
     "output_type": "stream",
     "text": [
      "Overwriting hw03-3.py\n"
     ]
    }
   ],
   "source": [
    "%%file hw03-3.py\n",
    "class cool_rating (MRJob):\n",
    "    from mrjob.job import MRJob\n",
    "    import csv\n",
    "    def Mapper (self,_,line):\n",
    "        with open ('yelp.csv','r') as f:\n",
    "            cool=csv.reader('cool',f)\n",
    "        with open ('yelp.csv','r') as f:\n",
    "            star=csv.reader('stars',f)\n",
    "        if cool != 0:\n",
    "            yield cool, stars\n",
    "        \n",
    "    def Reducer (self,key,values):\n",
    "        yield key, print(values.mean())\n",
    "        \n",
    "if __name == '__main__':\n",
    "    cool_rating.run()    "
   ]
  }
 ],
 "metadata": {
  "kernelspec": {
   "display_name": "Python 3",
   "language": "python",
   "name": "python3"
  },
  "language_info": {
   "codemirror_mode": {
    "name": "ipython",
    "version": 3
   },
   "file_extension": ".py",
   "mimetype": "text/x-python",
   "name": "python",
   "nbconvert_exporter": "python",
   "pygments_lexer": "ipython3",
   "version": "3.8.5"
  }
 },
 "nbformat": 4,
 "nbformat_minor": 4
}
