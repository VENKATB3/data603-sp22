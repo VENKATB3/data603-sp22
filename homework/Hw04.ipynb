{
 "cells": [
  {
   "cell_type": "code",
   "execution_count": 0,
   "metadata": {
    "application/vnd.databricks.v1+cell": {
     "inputWidgets": {},
     "nuid": "f9aae43c-4c47-4841-8a90-cfed6e1771b7",
     "showTitle": false,
     "title": ""
    }
   },
   "outputs": [
    {
     "data": {
      "text/html": [
       "<style scoped>\n",
       "  .ansiout {\n",
       "    display: block;\n",
       "    unicode-bidi: embed;\n",
       "    white-space: pre-wrap;\n",
       "    word-wrap: break-word;\n",
       "    word-break: break-all;\n",
       "    font-family: \"Source Code Pro\", \"Menlo\", monospace;;\n",
       "    font-size: 13px;\n",
       "    color: #555;\n",
       "    margin-left: 4px;\n",
       "    line-height: 19px;\n",
       "  }\n",
       "</style>\n",
       "<div class=\"ansiout\">513756\n",
       "root\n",
       "-- X: double (nullable = true)\n",
       "-- Y: double (nullable = true)\n",
       "-- RowID: integer (nullable = true)\n",
       "-- CrimeDateTime: string (nullable = true)\n",
       "-- CrimeCode: string (nullable = true)\n",
       "-- Location: string (nullable = true)\n",
       "-- Description: string (nullable = true)\n",
       "-- Inside_Outside: string (nullable = true)\n",
       "-- Weapon: string (nullable = true)\n",
       "-- Post: string (nullable = true)\n",
       "-- District: string (nullable = true)\n",
       "-- Neighborhood: string (nullable = true)\n",
       "-- Latitude: double (nullable = true)\n",
       "-- Longitude: double (nullable = true)\n",
       "-- GeoLocation: string (nullable = true)\n",
       "-- Premise: string (nullable = true)\n",
       "-- VRIName: string (nullable = true)\n",
       "-- Total_Incidents: integer (nullable = true)\n",
       "-- Shape: string (nullable = true)\n",
       "\n",
       "+----------------+----------------+-----+--------------------+---------+------------------+--------------------+--------------+-------+----+---------+--------------+--------+---------+------------------+-------+-------+---------------+-----+\n",
       "               X|               Y|RowID|       CrimeDateTime|CrimeCode|          Location|         Description|Inside_Outside| Weapon|Post| District|  Neighborhood|Latitude|Longitude|       GeoLocation|Premise|VRIName|Total_Incidents|Shape|\n",
       "+----------------+----------------+-----+--------------------+---------+------------------+--------------------+--------------+-------+----+---------+--------------+--------+---------+------------------+-------+-------+---------------+-----+\n",
       "1428019.10487147|589532.731060804|    1|2022/03/05 03:43:...|      3NF|     1800 FLEET ST|    ROBBERY - STREET|          null|FIREARM| 213|SOUTHEAST|   FELLS POINT| 39.2847| -76.5913|(39.2847,-76.5913)|   null|   null|              1| null|\n",
       "1428019.10487147|589532.731060804|    2|2022/03/05 03:43:...|      3NF|     1800 FLEET ST|    ROBBERY - STREET|          null|FIREARM| 213|SOUTHEAST|   FELLS POINT| 39.2847| -76.5913|(39.2847,-76.5913)|   null|   null|              1| null|\n",
       "1428019.10487147|589532.731060804|    3|2022/03/05 03:43:...|      3NF|     1800 FLEET ST|    ROBBERY - STREET|          null|FIREARM| 213|SOUTHEAST|   FELLS POINT| 39.2847| -76.5913|(39.2847,-76.5913)|   null|   null|              1| null|\n",
       "1423024.46477252| 572683.29122287|    4|2022/03/05 04:30:...|      3CF|100 E PATAPSCO AVE|ROBBERY - COMMERCIAL|          null|FIREARM| 913| SOUTHERN|      BROOKLYN| 39.2385| -76.6092|(39.2385,-76.6092)|   null|   null|              1| null|\n",
       "1400632.37017858|593904.722108476|    5|2022/03/05 01:30:...|      3AF|     RD &amp; KEVIN RD|    ROBBERY - STREET|          null|FIREARM| 822|SOUTHWEST|ROGNEL HEIGHTS|  39.297|  -76.688|  (39.297,-76.688)|   null|   null|              1| null|\n",
       "+----------------+----------------+-----+--------------------+---------+------------------+--------------------+--------------+-------+----+---------+--------------+--------+---------+------------------+-------+-------+---------------+-----+\n",
       "only showing top 5 rows\n",
       "\n",
       "</div>"
      ]
     },
     "metadata": {
      "application/vnd.databricks.v1+output": {
       "addedWidgets": {},
       "arguments": {},
       "data": "<div class=\"ansiout\">513756\nroot\n |-- X: double (nullable = true)\n |-- Y: double (nullable = true)\n |-- RowID: integer (nullable = true)\n |-- CrimeDateTime: string (nullable = true)\n |-- CrimeCode: string (nullable = true)\n |-- Location: string (nullable = true)\n |-- Description: string (nullable = true)\n |-- Inside_Outside: string (nullable = true)\n |-- Weapon: string (nullable = true)\n |-- Post: string (nullable = true)\n |-- District: string (nullable = true)\n |-- Neighborhood: string (nullable = true)\n |-- Latitude: double (nullable = true)\n |-- Longitude: double (nullable = true)\n |-- GeoLocation: string (nullable = true)\n |-- Premise: string (nullable = true)\n |-- VRIName: string (nullable = true)\n |-- Total_Incidents: integer (nullable = true)\n |-- Shape: string (nullable = true)\n\n+----------------+----------------+-----+--------------------+---------+------------------+--------------------+--------------+-------+----+---------+--------------+--------+---------+------------------+-------+-------+---------------+-----+\n|               X|               Y|RowID|       CrimeDateTime|CrimeCode|          Location|         Description|Inside_Outside| Weapon|Post| District|  Neighborhood|Latitude|Longitude|       GeoLocation|Premise|VRIName|Total_Incidents|Shape|\n+----------------+----------------+-----+--------------------+---------+------------------+--------------------+--------------+-------+----+---------+--------------+--------+---------+------------------+-------+-------+---------------+-----+\n|1428019.10487147|589532.731060804|    1|2022/03/05 03:43:...|      3NF|     1800 FLEET ST|    ROBBERY - STREET|          null|FIREARM| 213|SOUTHEAST|   FELLS POINT| 39.2847| -76.5913|(39.2847,-76.5913)|   null|   null|              1| null|\n|1428019.10487147|589532.731060804|    2|2022/03/05 03:43:...|      3NF|     1800 FLEET ST|    ROBBERY - STREET|          null|FIREARM| 213|SOUTHEAST|   FELLS POINT| 39.2847| -76.5913|(39.2847,-76.5913)|   null|   null|              1| null|\n|1428019.10487147|589532.731060804|    3|2022/03/05 03:43:...|      3NF|     1800 FLEET ST|    ROBBERY - STREET|          null|FIREARM| 213|SOUTHEAST|   FELLS POINT| 39.2847| -76.5913|(39.2847,-76.5913)|   null|   null|              1| null|\n|1423024.46477252| 572683.29122287|    4|2022/03/05 04:30:...|      3CF|100 E PATAPSCO AVE|ROBBERY - COMMERCIAL|          null|FIREARM| 913| SOUTHERN|      BROOKLYN| 39.2385| -76.6092|(39.2385,-76.6092)|   null|   null|              1| null|\n|1400632.37017858|593904.722108476|    5|2022/03/05 01:30:...|      3AF|     RD &amp; KEVIN RD|    ROBBERY - STREET|          null|FIREARM| 822|SOUTHWEST|ROGNEL HEIGHTS|  39.297|  -76.688|  (39.297,-76.688)|   null|   null|              1| null|\n+----------------+----------------+-----+--------------------+---------+------------------+--------------------+--------------+-------+----+---------+--------------+--------+---------+------------------+-------+-------+---------------+-----+\nonly showing top 5 rows\n\n</div>",
       "datasetInfos": [],
       "metadata": {},
       "removedWidgets": [],
       "type": "html"
      }
     },
     "output_type": "display_data"
    }
   ],
   "source": [
    "from pyspark.sql.types import StructType, StructField, StringType, IntegerType, DoubleType, TimestampType\n",
    "from pyspark import StorageLevel\n",
    "import pyspark.sql.functions as F\n",
    "schema = StructType([\n",
    "    StructField('X', DoubleType(), True),\n",
    "    StructField('Y', DoubleType(), True),\n",
    "    StructField('RowID', IntegerType(), False),\n",
    "    StructField('CrimeDateTime', StringType(), True), # TimestampType ??\n",
    "    StructField('CrimeCode', StringType(), True),\n",
    "    StructField('Location', StringType(), True),\n",
    "    StructField('Description', StringType(), True),\n",
    "    StructField('Inside_Outside', StringType(), True),\n",
    "    StructField('Weapon', StringType(), True),\n",
    "    StructField('Post', StringType(), True),\n",
    "    StructField('District', StringType(), True),\n",
    "    StructField('Neighborhood', StringType(), True),\n",
    "    StructField('Latitude', DoubleType(), True),\n",
    "    StructField('Longitude', DoubleType(), True),\n",
    "    StructField('GeoLocation', StringType(), True),\n",
    "    StructField('Premise', StringType(), True),\n",
    "    StructField('VRIName', StringType(), True),\n",
    "    StructField('Total_Incidents', IntegerType(), True),\n",
    "    StructField('Shape', StringType(), True)\n",
    "  ])\n",
    "df = spark.read.option('header', True).schema(schema).csv(\"Part1_crime_data.csv\")\n",
    "df.persist(StorageLevel.MEMORY_AND_DISK)\n",
    "print(df.count())\n",
    "df.printSchema()\n",
    "df.show(5)"
   ]
  },
  {
   "cell_type": "code",
   "execution_count": 0,
   "metadata": {
    "application/vnd.databricks.v1+cell": {
     "inputWidgets": {},
     "nuid": "5612c350-a138-4558-9e37-f9c99853f784",
     "showTitle": false,
     "title": ""
    }
   },
   "outputs": [
    {
     "data": {
      "text/html": [
       "<style scoped>\n",
       "  .table-result-container {\n",
       "    max-height: 300px;\n",
       "    overflow: auto;\n",
       "  }\n",
       "  table, th, td {\n",
       "    border: 1px solid black;\n",
       "    border-collapse: collapse;\n",
       "  }\n",
       "  th, td {\n",
       "    padding: 5px;\n",
       "  }\n",
       "  th {\n",
       "    text-align: left;\n",
       "  }\n",
       "</style><div class='table-result-container'><table class='table-result'><thead style='background-color: white'><tr><th>CrimeCode</th></tr></thead><tbody><tr><td>3P</td></tr><tr><td>3K</td></tr><tr><td>3BJ</td></tr><tr><td>1A</td></tr><tr><td>3M</td></tr><tr><td>5F</td></tr><tr><td>4B</td></tr><tr><td>3B</td></tr><tr><td>3NF</td></tr><tr><td>7A</td></tr><tr><td>3EF</td></tr><tr><td>3N</td></tr><tr><td>5D</td></tr><tr><td>6K</td></tr><tr><td>3LO</td></tr><tr><td>3AF</td></tr><tr><td>7B</td></tr><tr><td>3GO</td></tr><tr><td>3AJF</td></tr><tr><td>8GV</td></tr><tr><td>8AO</td></tr><tr><td>7C</td></tr><tr><td>3AK</td></tr><tr><td>3GK</td></tr><tr><td>6L</td></tr><tr><td>3EO</td></tr><tr><td>3JO</td></tr><tr><td>3F</td></tr><tr><td>1K</td></tr><tr><td>8H</td></tr><tr><td>8CV</td></tr><tr><td>4C</td></tr><tr><td>5A</td></tr><tr><td>6C</td></tr><tr><td>3NK</td></tr><tr><td>3D</td></tr><tr><td>6H</td></tr><tr><td>3LK</td></tr><tr><td>3AJK</td></tr><tr><td>3CO</td></tr><tr><td>3L</td></tr><tr><td>4E</td></tr><tr><td>8BV</td></tr><tr><td>6D</td></tr><tr><td>2A</td></tr><tr><td>3C</td></tr><tr><td>8I</td></tr><tr><td>3NO</td></tr><tr><td>3JF</td></tr><tr><td>3LF</td></tr><tr><td>3E</td></tr><tr><td>1O</td></tr><tr><td>8J</td></tr><tr><td>3CK</td></tr><tr><td>8BO</td></tr><tr><td>2B</td></tr><tr><td>3JK</td></tr><tr><td>5B</td></tr><tr><td>4A</td></tr><tr><td>8GO</td></tr><tr><td>8EV</td></tr><tr><td>3CF</td></tr><tr><td>8EO</td></tr><tr><td>6G</td></tr><tr><td>6A</td></tr><tr><td>9S</td></tr><tr><td>3EK</td></tr><tr><td>8FV</td></tr><tr><td>3GF</td></tr><tr><td>3H</td></tr><tr><td>4D</td></tr><tr><td>8FO</td></tr><tr><td>6J</td></tr><tr><td>6F</td></tr><tr><td>6E</td></tr><tr><td>3J</td></tr><tr><td>5C</td></tr><tr><td>5G</td></tr><tr><td>8AV</td></tr><tr><td>5E</td></tr><tr><td>3AJO</td></tr><tr><td>3AO</td></tr><tr><td>6B</td></tr><tr><td>8DO</td></tr><tr><td>8CO</td></tr></tbody></table></div>"
      ]
     },
     "metadata": {
      "application/vnd.databricks.v1+output": {
       "addedWidgets": {},
       "aggData": [],
       "aggError": "",
       "aggOverflow": false,
       "aggSchema": [],
       "aggSeriesLimitReached": false,
       "aggType": "",
       "arguments": {},
       "columnCustomDisplayInfos": {},
       "data": [
        [
         "3P"
        ],
        [
         "3K"
        ],
        [
         "3BJ"
        ],
        [
         "1A"
        ],
        [
         "3M"
        ],
        [
         "5F"
        ],
        [
         "4B"
        ],
        [
         "3B"
        ],
        [
         "3NF"
        ],
        [
         "7A"
        ],
        [
         "3EF"
        ],
        [
         "3N"
        ],
        [
         "5D"
        ],
        [
         "6K"
        ],
        [
         "3LO"
        ],
        [
         "3AF"
        ],
        [
         "7B"
        ],
        [
         "3GO"
        ],
        [
         "3AJF"
        ],
        [
         "8GV"
        ],
        [
         "8AO"
        ],
        [
         "7C"
        ],
        [
         "3AK"
        ],
        [
         "3GK"
        ],
        [
         "6L"
        ],
        [
         "3EO"
        ],
        [
         "3JO"
        ],
        [
         "3F"
        ],
        [
         "1K"
        ],
        [
         "8H"
        ],
        [
         "8CV"
        ],
        [
         "4C"
        ],
        [
         "5A"
        ],
        [
         "6C"
        ],
        [
         "3NK"
        ],
        [
         "3D"
        ],
        [
         "6H"
        ],
        [
         "3LK"
        ],
        [
         "3AJK"
        ],
        [
         "3CO"
        ],
        [
         "3L"
        ],
        [
         "4E"
        ],
        [
         "8BV"
        ],
        [
         "6D"
        ],
        [
         "2A"
        ],
        [
         "3C"
        ],
        [
         "8I"
        ],
        [
         "3NO"
        ],
        [
         "3JF"
        ],
        [
         "3LF"
        ],
        [
         "3E"
        ],
        [
         "1O"
        ],
        [
         "8J"
        ],
        [
         "3CK"
        ],
        [
         "8BO"
        ],
        [
         "2B"
        ],
        [
         "3JK"
        ],
        [
         "5B"
        ],
        [
         "4A"
        ],
        [
         "8GO"
        ],
        [
         "8EV"
        ],
        [
         "3CF"
        ],
        [
         "8EO"
        ],
        [
         "6G"
        ],
        [
         "6A"
        ],
        [
         "9S"
        ],
        [
         "3EK"
        ],
        [
         "8FV"
        ],
        [
         "3GF"
        ],
        [
         "3H"
        ],
        [
         "4D"
        ],
        [
         "8FO"
        ],
        [
         "6J"
        ],
        [
         "6F"
        ],
        [
         "6E"
        ],
        [
         "3J"
        ],
        [
         "5C"
        ],
        [
         "5G"
        ],
        [
         "8AV"
        ],
        [
         "5E"
        ],
        [
         "3AJO"
        ],
        [
         "3AO"
        ],
        [
         "6B"
        ],
        [
         "8DO"
        ],
        [
         "8CO"
        ]
       ],
       "datasetInfos": [],
       "dbfsResultPath": null,
       "isJsonSchema": true,
       "metadata": {},
       "overflow": false,
       "plotOptions": {
        "customPlotOptions": {},
        "displayType": "table",
        "pivotAggregation": null,
        "pivotColumns": null,
        "xColumns": null,
        "yColumns": null
       },
       "removedWidgets": [],
       "schema": [
        {
         "metadata": "{}",
         "name": "CrimeCode",
         "type": "\"string\""
        }
       ],
       "type": "table"
      }
     },
     "output_type": "display_data"
    }
   ],
   "source": [
    "#1\n",
    "display(df\n",
    "        .select(\"CrimeCode\")\n",
    "        .distinct()\n",
    "       )"
   ]
  },
  {
   "cell_type": "code",
   "execution_count": 0,
   "metadata": {
    "application/vnd.databricks.v1+cell": {
     "inputWidgets": {},
     "nuid": "465d7dd6-4fa7-4e3b-a1b6-37e7072b6c2a",
     "showTitle": false,
     "title": ""
    }
   },
   "outputs": [
    {
     "data": {
      "text/html": [
       "<style scoped>\n",
       "  .table-result-container {\n",
       "    max-height: 300px;\n",
       "    overflow: auto;\n",
       "  }\n",
       "  table, th, td {\n",
       "    border: 1px solid black;\n",
       "    border-collapse: collapse;\n",
       "  }\n",
       "  th, td {\n",
       "    padding: 5px;\n",
       "  }\n",
       "  th {\n",
       "    text-align: left;\n",
       "  }\n",
       "</style><div class='table-result-container'><table class='table-result'><thead style='background-color: white'><tr><th>CrimeCode</th><th>CrimeCount</th></tr></thead><tbody><tr><td>4E</td><td>91822</td></tr><tr><td>6D</td><td>68508</td></tr><tr><td>5A</td><td>43956</td></tr><tr><td>7A</td><td>40308</td></tr><tr><td>6J</td><td>27670</td></tr><tr><td>6G</td><td>26898</td></tr><tr><td>6E</td><td>24310</td></tr><tr><td>6C</td><td>23269</td></tr><tr><td>4C</td><td>22455</td></tr><tr><td>5D</td><td>14971</td></tr><tr><td>3AF</td><td>14760</td></tr><tr><td>4B</td><td>14501</td></tr><tr><td>4A</td><td>13240</td></tr><tr><td>3B</td><td>10735</td></tr><tr><td>4D</td><td>7222</td></tr><tr><td>5B</td><td>6481</td></tr><tr><td>9S</td><td>5452</td></tr><tr><td>6F</td><td>5058</td></tr><tr><td>5C</td><td>4917</td></tr><tr><td>6B</td><td>4106</td></tr><tr><td>3CF</td><td>3776</td></tr><tr><td>2A</td><td>3172</td></tr><tr><td>3AJF</td><td>3020</td></tr><tr><td>3AK</td><td>2982</td></tr><tr><td>3K</td><td>2833</td></tr><tr><td>7C</td><td>2726</td></tr><tr><td>1A</td><td>2631</td></tr><tr><td>3AO</td><td>2486</td></tr><tr><td>5F</td><td>2192</td></tr><tr><td>3JF</td><td>1819</td></tr><tr><td>3D</td><td>1432</td></tr><tr><td>5E</td><td>1419</td></tr><tr><td>6L</td><td>1206</td></tr><tr><td>8H</td><td>1053</td></tr><tr><td>3P</td><td>873</td></tr><tr><td>3GF</td><td>800</td></tr><tr><td>6A</td><td>782</td></tr><tr><td>3BJ</td><td>754</td></tr><tr><td>3CK</td><td>591</td></tr><tr><td>3CO</td><td>516</td></tr><tr><td>3NF</td><td>445</td></tr><tr><td>3JK</td><td>423</td></tr><tr><td>8AO</td><td>413</td></tr><tr><td>3JO</td><td>413</td></tr><tr><td>2B</td><td>355</td></tr><tr><td>7B</td><td>291</td></tr><tr><td>8J</td><td>279</td></tr><tr><td>3H</td><td>261</td></tr><tr><td>1K</td><td>230</td></tr><tr><td>3AJO</td><td>225</td></tr><tr><td>6H</td><td>222</td></tr><tr><td>3J</td><td>216</td></tr><tr><td>1O</td><td>192</td></tr><tr><td>3N</td><td>181</td></tr><tr><td>3EF</td><td>177</td></tr><tr><td>3AJK</td><td>172</td></tr><tr><td>8FO</td><td>154</td></tr><tr><td>3GO</td><td>133</td></tr><tr><td>3M</td><td>121</td></tr><tr><td>8AV</td><td>121</td></tr><tr><td>3F</td><td>120</td></tr><tr><td>3NK</td><td>120</td></tr><tr><td>3GK</td><td>117</td></tr><tr><td>8BO</td><td>104</td></tr><tr><td>3LF</td><td>97</td></tr><tr><td>3NO</td><td>83</td></tr><tr><td>8EO</td><td>78</td></tr><tr><td>8I</td><td>47</td></tr><tr><td>3EO</td><td>47</td></tr><tr><td>3EK</td><td>40</td></tr><tr><td>3LO</td><td>35</td></tr><tr><td>8BV</td><td>26</td></tr><tr><td>8GO</td><td>24</td></tr><tr><td>5G</td><td>21</td></tr><tr><td>8CO</td><td>13</td></tr><tr><td>8EV</td><td>10</td></tr><tr><td>8FV</td><td>9</td></tr><tr><td>8GV</td><td>7</td></tr><tr><td>8CV</td><td>7</td></tr><tr><td>6K</td><td>7</td></tr><tr><td>3LK</td><td>5</td></tr><tr><td>3E</td><td>5</td></tr><tr><td>3C</td><td>4</td></tr><tr><td>8DO</td><td>3</td></tr><tr><td>3L</td><td>1</td></tr></tbody></table></div>"
      ]
     },
     "metadata": {
      "application/vnd.databricks.v1+output": {
       "addedWidgets": {},
       "aggData": [],
       "aggError": "",
       "aggOverflow": false,
       "aggSchema": [],
       "aggSeriesLimitReached": false,
       "aggType": "",
       "arguments": {},
       "columnCustomDisplayInfos": {},
       "data": [
        [
         "4E",
         91822
        ],
        [
         "6D",
         68508
        ],
        [
         "5A",
         43956
        ],
        [
         "7A",
         40308
        ],
        [
         "6J",
         27670
        ],
        [
         "6G",
         26898
        ],
        [
         "6E",
         24310
        ],
        [
         "6C",
         23269
        ],
        [
         "4C",
         22455
        ],
        [
         "5D",
         14971
        ],
        [
         "3AF",
         14760
        ],
        [
         "4B",
         14501
        ],
        [
         "4A",
         13240
        ],
        [
         "3B",
         10735
        ],
        [
         "4D",
         7222
        ],
        [
         "5B",
         6481
        ],
        [
         "9S",
         5452
        ],
        [
         "6F",
         5058
        ],
        [
         "5C",
         4917
        ],
        [
         "6B",
         4106
        ],
        [
         "3CF",
         3776
        ],
        [
         "2A",
         3172
        ],
        [
         "3AJF",
         3020
        ],
        [
         "3AK",
         2982
        ],
        [
         "3K",
         2833
        ],
        [
         "7C",
         2726
        ],
        [
         "1A",
         2631
        ],
        [
         "3AO",
         2486
        ],
        [
         "5F",
         2192
        ],
        [
         "3JF",
         1819
        ],
        [
         "3D",
         1432
        ],
        [
         "5E",
         1419
        ],
        [
         "6L",
         1206
        ],
        [
         "8H",
         1053
        ],
        [
         "3P",
         873
        ],
        [
         "3GF",
         800
        ],
        [
         "6A",
         782
        ],
        [
         "3BJ",
         754
        ],
        [
         "3CK",
         591
        ],
        [
         "3CO",
         516
        ],
        [
         "3NF",
         445
        ],
        [
         "3JK",
         423
        ],
        [
         "8AO",
         413
        ],
        [
         "3JO",
         413
        ],
        [
         "2B",
         355
        ],
        [
         "7B",
         291
        ],
        [
         "8J",
         279
        ],
        [
         "3H",
         261
        ],
        [
         "1K",
         230
        ],
        [
         "3AJO",
         225
        ],
        [
         "6H",
         222
        ],
        [
         "3J",
         216
        ],
        [
         "1O",
         192
        ],
        [
         "3N",
         181
        ],
        [
         "3EF",
         177
        ],
        [
         "3AJK",
         172
        ],
        [
         "8FO",
         154
        ],
        [
         "3GO",
         133
        ],
        [
         "3M",
         121
        ],
        [
         "8AV",
         121
        ],
        [
         "3F",
         120
        ],
        [
         "3NK",
         120
        ],
        [
         "3GK",
         117
        ],
        [
         "8BO",
         104
        ],
        [
         "3LF",
         97
        ],
        [
         "3NO",
         83
        ],
        [
         "8EO",
         78
        ],
        [
         "8I",
         47
        ],
        [
         "3EO",
         47
        ],
        [
         "3EK",
         40
        ],
        [
         "3LO",
         35
        ],
        [
         "8BV",
         26
        ],
        [
         "8GO",
         24
        ],
        [
         "5G",
         21
        ],
        [
         "8CO",
         13
        ],
        [
         "8EV",
         10
        ],
        [
         "8FV",
         9
        ],
        [
         "8GV",
         7
        ],
        [
         "8CV",
         7
        ],
        [
         "6K",
         7
        ],
        [
         "3LK",
         5
        ],
        [
         "3E",
         5
        ],
        [
         "3C",
         4
        ],
        [
         "8DO",
         3
        ],
        [
         "3L",
         1
        ]
       ],
       "datasetInfos": [],
       "dbfsResultPath": null,
       "isJsonSchema": true,
       "metadata": {},
       "overflow": false,
       "plotOptions": {
        "customPlotOptions": {},
        "displayType": "table",
        "pivotAggregation": null,
        "pivotColumns": null,
        "xColumns": null,
        "yColumns": null
       },
       "removedWidgets": [],
       "schema": [
        {
         "metadata": "{}",
         "name": "CrimeCode",
         "type": "\"string\""
        },
        {
         "metadata": "{}",
         "name": "CrimeCount",
         "type": "\"long\""
        }
       ],
       "type": "table"
      }
     },
     "output_type": "display_data"
    }
   ],
   "source": [
    "#2\n",
    "display(df\n",
    "        .groupBy(\"CrimeCode\")\n",
    "        .agg(F.count(\"CrimeCode\"))\n",
    "        .withColumnRenamed(\"count(CrimeCode)\", \"CrimeCount\")\n",
    "        .orderBy(\"CrimeCount\", ascending=False)\n",
    "        )"
   ]
  },
  {
   "cell_type": "code",
   "execution_count": 0,
   "metadata": {
    "application/vnd.databricks.v1+cell": {
     "inputWidgets": {},
     "nuid": "1f372d8d-fa56-4cce-8b28-86756b3e5f92",
     "showTitle": false,
     "title": ""
    }
   },
   "outputs": [
    {
     "data": {
      "text/html": [
       "<style scoped>\n",
       "  .ansiout {\n",
       "    display: block;\n",
       "    unicode-bidi: embed;\n",
       "    white-space: pre-wrap;\n",
       "    word-wrap: break-word;\n",
       "    word-break: break-all;\n",
       "    font-family: \"Source Code Pro\", \"Menlo\", monospace;;\n",
       "    font-size: 13px;\n",
       "    color: #555;\n",
       "    margin-left: 4px;\n",
       "    line-height: 19px;\n",
       "  }\n",
       "</style>\n",
       "<div class=\"ansiout\">DOWNTOWN\n",
       "</div>"
      ]
     },
     "metadata": {
      "application/vnd.databricks.v1+output": {
       "addedWidgets": {},
       "arguments": {},
       "data": "<div class=\"ansiout\">DOWNTOWN\n</div>",
       "datasetInfos": [],
       "metadata": {},
       "removedWidgets": [],
       "type": "html"
      }
     },
     "output_type": "display_data"
    }
   ],
   "source": [
    "#3\n",
    "print(df\n",
    "        .groupBy(\"Neighborhood\")\n",
    "        .agg(F.count(\"Neighborhood\"))\n",
    "        .withColumnRenamed(\"count(Neighborhood)\", \"CrimeCount\")\n",
    "        .orderBy(\"CrimeCount\", ascending=False)\n",
    "        .first()[\"Neighborhood\"]\n",
    "        )"
   ]
  },
  {
   "cell_type": "code",
   "execution_count": 0,
   "metadata": {
    "application/vnd.databricks.v1+cell": {
     "inputWidgets": {},
     "nuid": "0598651e-24b8-4d3c-98eb-e8a09ec9d367",
     "showTitle": false,
     "title": ""
    }
   },
   "outputs": [
    {
     "data": {
      "text/html": [
       "<style scoped>\n",
       "  .ansiout {\n",
       "    display: block;\n",
       "    unicode-bidi: embed;\n",
       "    white-space: pre-wrap;\n",
       "    word-wrap: break-word;\n",
       "    word-break: break-all;\n",
       "    font-family: \"Source Code Pro\", \"Menlo\", monospace;;\n",
       "    font-size: 13px;\n",
       "    color: #555;\n",
       "    margin-left: 4px;\n",
       "    line-height: 19px;\n",
       "  }\n",
       "</style>\n",
       "<div class=\"ansiout\"></div>"
      ]
     },
     "metadata": {
      "application/vnd.databricks.v1+output": {
       "addedWidgets": {},
       "arguments": {},
       "data": "<div class=\"ansiout\"></div>",
       "datasetInfos": [],
       "metadata": {},
       "removedWidgets": [],
       "type": "html"
      }
     },
     "output_type": "display_data"
    },
    {
     "data": {
      "text/html": [
       "<style scoped>\n",
       "  .ansiout {\n",
       "    display: block;\n",
       "    unicode-bidi: embed;\n",
       "    white-space: pre-wrap;\n",
       "    word-wrap: break-word;\n",
       "    word-break: break-all;\n",
       "    font-family: \"Source Code Pro\", \"Menlo\", monospace;;\n",
       "    font-size: 13px;\n",
       "    color: #555;\n",
       "    margin-left: 4px;\n",
       "    line-height: 19px;\n",
       "  }\n",
       "</style>\n",
       "<div class=\"ansiout\"><span class=\"ansi-red-fg\">---------------------------------------------------------------------------</span>\n",
       "<span class=\"ansi-red-fg\">AnalysisException</span>                         Traceback (most recent call last)\n",
       "<span class=\"ansi-green-fg\">&lt;command-2836011514671333&gt;</span> in <span class=\"ansi-cyan-fg\">&lt;module&gt;</span>\n",
       "<span class=\"ansi-green-intense-fg ansi-bold\">      1</span> <span class=\"ansi-green-fg\">from</span> datetime <span class=\"ansi-green-fg\">import</span> datetime\n",
       "<span class=\"ansi-green-fg\">----&gt; 2</span><span class=\"ansi-red-fg\"> </span>df<span class=\"ansi-blue-fg\">.</span>select<span class=\"ansi-blue-fg\">(</span>F<span class=\"ansi-blue-fg\">.</span>unix_timestamp<span class=\"ansi-blue-fg\">(</span><span class=\"ansi-blue-fg\">&#34;CrimeDateTime&#34;</span><span class=\"ansi-blue-fg\">,</span> <span class=\"ansi-blue-fg\">&#34;yyyy/MM/dd HH:mm:ss+00&#34;</span><span class=\"ansi-blue-fg\">)</span><span class=\"ansi-blue-fg\">.</span>alias<span class=\"ansi-blue-fg\">(</span><span class=\"ansi-blue-fg\">&#34;timestamps&#34;</span><span class=\"ansi-blue-fg\">)</span><span class=\"ansi-blue-fg\">)</span><span class=\"ansi-blue-fg\">.</span>groupBy<span class=\"ansi-blue-fg\">(</span>F<span class=\"ansi-blue-fg\">.</span>dayofyear<span class=\"ansi-blue-fg\">(</span><span class=\"ansi-blue-fg\">&#34;timestamps&#34;</span><span class=\"ansi-blue-fg\">)</span><span class=\"ansi-blue-fg\">)</span><span class=\"ansi-blue-fg\">.</span>agg<span class=\"ansi-blue-fg\">(</span>F<span class=\"ansi-blue-fg\">.</span>count<span class=\"ansi-blue-fg\">(</span><span class=\"ansi-blue-fg\">&#34;timestamps&#34;</span><span class=\"ansi-blue-fg\">)</span><span class=\"ansi-blue-fg\">)</span>\n",
       "\n",
       "<span class=\"ansi-green-fg\">/databricks/spark/python/pyspark/sql/group.py</span> in <span class=\"ansi-cyan-fg\">agg</span><span class=\"ansi-blue-fg\">(self, *exprs)</span>\n",
       "<span class=\"ansi-green-intense-fg ansi-bold\">    116</span>             <span class=\"ansi-red-fg\"># Columns</span>\n",
       "<span class=\"ansi-green-intense-fg ansi-bold\">    117</span>             <span class=\"ansi-green-fg\">assert</span> all<span class=\"ansi-blue-fg\">(</span>isinstance<span class=\"ansi-blue-fg\">(</span>c<span class=\"ansi-blue-fg\">,</span> Column<span class=\"ansi-blue-fg\">)</span> <span class=\"ansi-green-fg\">for</span> c <span class=\"ansi-green-fg\">in</span> exprs<span class=\"ansi-blue-fg\">)</span><span class=\"ansi-blue-fg\">,</span> <span class=\"ansi-blue-fg\">&#34;all exprs should be Column&#34;</span>\n",
       "<span class=\"ansi-green-fg\">--&gt; 118</span><span class=\"ansi-red-fg\">             jdf = self._jgd.agg(exprs[0]._jc,\n",
       "</span><span class=\"ansi-green-intense-fg ansi-bold\">    119</span>                                 _to_seq(self.sql_ctx._sc, [c._jc for c in exprs[1:]]))\n",
       "<span class=\"ansi-green-intense-fg ansi-bold\">    120</span>         <span class=\"ansi-green-fg\">return</span> DataFrame<span class=\"ansi-blue-fg\">(</span>jdf<span class=\"ansi-blue-fg\">,</span> self<span class=\"ansi-blue-fg\">.</span>sql_ctx<span class=\"ansi-blue-fg\">)</span>\n",
       "\n",
       "<span class=\"ansi-green-fg\">/databricks/spark/python/lib/py4j-0.10.9-src.zip/py4j/java_gateway.py</span> in <span class=\"ansi-cyan-fg\">__call__</span><span class=\"ansi-blue-fg\">(self, *args)</span>\n",
       "<span class=\"ansi-green-intense-fg ansi-bold\">   1302</span> \n",
       "<span class=\"ansi-green-intense-fg ansi-bold\">   1303</span>         answer <span class=\"ansi-blue-fg\">=</span> self<span class=\"ansi-blue-fg\">.</span>gateway_client<span class=\"ansi-blue-fg\">.</span>send_command<span class=\"ansi-blue-fg\">(</span>command<span class=\"ansi-blue-fg\">)</span>\n",
       "<span class=\"ansi-green-fg\">-&gt; 1304</span><span class=\"ansi-red-fg\">         return_value = get_return_value(\n",
       "</span><span class=\"ansi-green-intense-fg ansi-bold\">   1305</span>             answer, self.gateway_client, self.target_id, self.name)\n",
       "<span class=\"ansi-green-intense-fg ansi-bold\">   1306</span> \n",
       "\n",
       "<span class=\"ansi-green-fg\">/databricks/spark/python/pyspark/sql/utils.py</span> in <span class=\"ansi-cyan-fg\">deco</span><span class=\"ansi-blue-fg\">(*a, **kw)</span>\n",
       "<span class=\"ansi-green-intense-fg ansi-bold\">    121</span>                 <span class=\"ansi-red-fg\"># Hide where the exception came from that shows a non-Pythonic</span>\n",
       "<span class=\"ansi-green-intense-fg ansi-bold\">    122</span>                 <span class=\"ansi-red-fg\"># JVM exception message.</span>\n",
       "<span class=\"ansi-green-fg\">--&gt; 123</span><span class=\"ansi-red-fg\">                 </span><span class=\"ansi-green-fg\">raise</span> converted <span class=\"ansi-green-fg\">from</span> <span class=\"ansi-green-fg\">None</span>\n",
       "<span class=\"ansi-green-intense-fg ansi-bold\">    124</span>             <span class=\"ansi-green-fg\">else</span><span class=\"ansi-blue-fg\">:</span>\n",
       "<span class=\"ansi-green-intense-fg ansi-bold\">    125</span>                 <span class=\"ansi-green-fg\">raise</span>\n",
       "\n",
       "<span class=\"ansi-red-fg\">AnalysisException</span>: cannot resolve &#39;dayofyear(`timestamps`)&#39; due to data type mismatch: argument 1 requires date type, however, &#39;`timestamps`&#39; is of bigint type.;\n",
       "&#39;Aggregate [dayofyear(timestamps#17311L)], [dayofyear(timestamps#17311L) AS dayofyear(timestamps)#17315, count(timestamps#17311L) AS count(timestamps)#17316L]\n",
       "+- Project [unix_timestamp(CrimeDateTime#7216, yyyy/MM/dd HH:mm:ss+00, Some(Etc/UTC), false) AS timestamps#17311L]\n",
       "   +- Relation[X#7213,Y#7214,RowID#7215,CrimeDateTime#7216,CrimeCode#7217,Location#7218,Description#7219,Inside_Outside#7220,Weapon#7221,Post#7222,District#7223,Neighborhood#7224,Latitude#7225,Longitude#7226,GeoLocation#7227,Premise#7228,VRIName#7229,Total_Incidents#7230,Shape#7231] csv\n",
       "</div>"
      ]
     },
     "metadata": {
      "application/vnd.databricks.v1+output": {
       "arguments": {},
       "data": "<div class=\"ansiout\"><span class=\"ansi-red-fg\">---------------------------------------------------------------------------</span>\n<span class=\"ansi-red-fg\">AnalysisException</span>                         Traceback (most recent call last)\n<span class=\"ansi-green-fg\">&lt;command-2836011514671333&gt;</span> in <span class=\"ansi-cyan-fg\">&lt;module&gt;</span>\n<span class=\"ansi-green-intense-fg ansi-bold\">      1</span> <span class=\"ansi-green-fg\">from</span> datetime <span class=\"ansi-green-fg\">import</span> datetime\n<span class=\"ansi-green-fg\">----&gt; 2</span><span class=\"ansi-red-fg\"> </span>df<span class=\"ansi-blue-fg\">.</span>select<span class=\"ansi-blue-fg\">(</span>F<span class=\"ansi-blue-fg\">.</span>unix_timestamp<span class=\"ansi-blue-fg\">(</span><span class=\"ansi-blue-fg\">&#34;CrimeDateTime&#34;</span><span class=\"ansi-blue-fg\">,</span> <span class=\"ansi-blue-fg\">&#34;yyyy/MM/dd HH:mm:ss+00&#34;</span><span class=\"ansi-blue-fg\">)</span><span class=\"ansi-blue-fg\">.</span>alias<span class=\"ansi-blue-fg\">(</span><span class=\"ansi-blue-fg\">&#34;timestamps&#34;</span><span class=\"ansi-blue-fg\">)</span><span class=\"ansi-blue-fg\">)</span><span class=\"ansi-blue-fg\">.</span>groupBy<span class=\"ansi-blue-fg\">(</span>F<span class=\"ansi-blue-fg\">.</span>dayofyear<span class=\"ansi-blue-fg\">(</span><span class=\"ansi-blue-fg\">&#34;timestamps&#34;</span><span class=\"ansi-blue-fg\">)</span><span class=\"ansi-blue-fg\">)</span><span class=\"ansi-blue-fg\">.</span>agg<span class=\"ansi-blue-fg\">(</span>F<span class=\"ansi-blue-fg\">.</span>count<span class=\"ansi-blue-fg\">(</span><span class=\"ansi-blue-fg\">&#34;timestamps&#34;</span><span class=\"ansi-blue-fg\">)</span><span class=\"ansi-blue-fg\">)</span>\n\n<span class=\"ansi-green-fg\">/databricks/spark/python/pyspark/sql/group.py</span> in <span class=\"ansi-cyan-fg\">agg</span><span class=\"ansi-blue-fg\">(self, *exprs)</span>\n<span class=\"ansi-green-intense-fg ansi-bold\">    116</span>             <span class=\"ansi-red-fg\"># Columns</span>\n<span class=\"ansi-green-intense-fg ansi-bold\">    117</span>             <span class=\"ansi-green-fg\">assert</span> all<span class=\"ansi-blue-fg\">(</span>isinstance<span class=\"ansi-blue-fg\">(</span>c<span class=\"ansi-blue-fg\">,</span> Column<span class=\"ansi-blue-fg\">)</span> <span class=\"ansi-green-fg\">for</span> c <span class=\"ansi-green-fg\">in</span> exprs<span class=\"ansi-blue-fg\">)</span><span class=\"ansi-blue-fg\">,</span> <span class=\"ansi-blue-fg\">&#34;all exprs should be Column&#34;</span>\n<span class=\"ansi-green-fg\">--&gt; 118</span><span class=\"ansi-red-fg\">             jdf = self._jgd.agg(exprs[0]._jc,\n</span><span class=\"ansi-green-intense-fg ansi-bold\">    119</span>                                 _to_seq(self.sql_ctx._sc, [c._jc for c in exprs[1:]]))\n<span class=\"ansi-green-intense-fg ansi-bold\">    120</span>         <span class=\"ansi-green-fg\">return</span> DataFrame<span class=\"ansi-blue-fg\">(</span>jdf<span class=\"ansi-blue-fg\">,</span> self<span class=\"ansi-blue-fg\">.</span>sql_ctx<span class=\"ansi-blue-fg\">)</span>\n\n<span class=\"ansi-green-fg\">/databricks/spark/python/lib/py4j-0.10.9-src.zip/py4j/java_gateway.py</span> in <span class=\"ansi-cyan-fg\">__call__</span><span class=\"ansi-blue-fg\">(self, *args)</span>\n<span class=\"ansi-green-intense-fg ansi-bold\">   1302</span> \n<span class=\"ansi-green-intense-fg ansi-bold\">   1303</span>         answer <span class=\"ansi-blue-fg\">=</span> self<span class=\"ansi-blue-fg\">.</span>gateway_client<span class=\"ansi-blue-fg\">.</span>send_command<span class=\"ansi-blue-fg\">(</span>command<span class=\"ansi-blue-fg\">)</span>\n<span class=\"ansi-green-fg\">-&gt; 1304</span><span class=\"ansi-red-fg\">         return_value = get_return_value(\n</span><span class=\"ansi-green-intense-fg ansi-bold\">   1305</span>             answer, self.gateway_client, self.target_id, self.name)\n<span class=\"ansi-green-intense-fg ansi-bold\">   1306</span> \n\n<span class=\"ansi-green-fg\">/databricks/spark/python/pyspark/sql/utils.py</span> in <span class=\"ansi-cyan-fg\">deco</span><span class=\"ansi-blue-fg\">(*a, **kw)</span>\n<span class=\"ansi-green-intense-fg ansi-bold\">    121</span>                 <span class=\"ansi-red-fg\"># Hide where the exception came from that shows a non-Pythonic</span>\n<span class=\"ansi-green-intense-fg ansi-bold\">    122</span>                 <span class=\"ansi-red-fg\"># JVM exception message.</span>\n<span class=\"ansi-green-fg\">--&gt; 123</span><span class=\"ansi-red-fg\">                 </span><span class=\"ansi-green-fg\">raise</span> converted <span class=\"ansi-green-fg\">from</span> <span class=\"ansi-green-fg\">None</span>\n<span class=\"ansi-green-intense-fg ansi-bold\">    124</span>             <span class=\"ansi-green-fg\">else</span><span class=\"ansi-blue-fg\">:</span>\n<span class=\"ansi-green-intense-fg ansi-bold\">    125</span>                 <span class=\"ansi-green-fg\">raise</span>\n\n<span class=\"ansi-red-fg\">AnalysisException</span>: cannot resolve &#39;dayofyear(`timestamps`)&#39; due to data type mismatch: argument 1 requires date type, however, &#39;`timestamps`&#39; is of bigint type.;\n&#39;Aggregate [dayofyear(timestamps#17311L)], [dayofyear(timestamps#17311L) AS dayofyear(timestamps)#17315, count(timestamps#17311L) AS count(timestamps)#17316L]\n+- Project [unix_timestamp(CrimeDateTime#7216, yyyy/MM/dd HH:mm:ss+00, Some(Etc/UTC), false) AS timestamps#17311L]\n   +- Relation[X#7213,Y#7214,RowID#7215,CrimeDateTime#7216,CrimeCode#7217,Location#7218,Description#7219,Inside_Outside#7220,Weapon#7221,Post#7222,District#7223,Neighborhood#7224,Latitude#7225,Longitude#7226,GeoLocation#7227,Premise#7228,VRIName#7229,Total_Incidents#7230,Shape#7231] csv\n</div>",
       "errorSummary": "<span class=\"ansi-red-fg\">AnalysisException</span>: cannot resolve &#39;dayofyear(`timestamps`)&#39; due to data type mismatch: argument 1 requires date type, however, &#39;`timestamps`&#39; is of bigint type.;",
       "errorTraceType": "html",
       "metadata": {},
       "type": "ipynbError"
      }
     },
     "output_type": "display_data"
    }
   ],
   "source": [
    "#4\n",
    "# timestamps datatype is not parsing \n",
    "df.select(F.unix_timestamp(\"CrimeDateTime\", \"yyyy/MM/dd HH:mm:ss+00\").alias(\"timestamps\")).groupBy(F.dayofyear(\"timestamps\")).agg(F.count(\"timestamps\"))"
   ]
  },
  {
   "cell_type": "code",
   "execution_count": 0,
   "metadata": {
    "application/vnd.databricks.v1+cell": {
     "inputWidgets": {},
     "nuid": "b244e5fe-7cd9-4be2-b996-18800fa5af8c",
     "showTitle": false,
     "title": ""
    }
   },
   "outputs": [
    {
     "data": {
      "text/html": [
       "<style scoped>\n",
       "  .table-result-container {\n",
       "    max-height: 300px;\n",
       "    overflow: auto;\n",
       "  }\n",
       "  table, th, td {\n",
       "    border: 1px solid black;\n",
       "    border-collapse: collapse;\n",
       "  }\n",
       "  th, td {\n",
       "    padding: 5px;\n",
       "  }\n",
       "  th {\n",
       "    text-align: left;\n",
       "  }\n",
       "</style><div class='table-result-container'><table class='table-result'><thead style='background-color: white'><tr><th>Weapon</th></tr></thead><tbody><tr><td>HANDS</td></tr><tr><td>KNIFE</td></tr><tr><td>OTHER</td></tr><tr><td>FIRE</td></tr><tr><td>FIREARM</td></tr></tbody></table></div>"
      ]
     },
     "metadata": {
      "application/vnd.databricks.v1+output": {
       "addedWidgets": {},
       "aggData": [],
       "aggError": "",
       "aggOverflow": false,
       "aggSchema": [],
       "aggSeriesLimitReached": false,
       "aggType": "",
       "arguments": {},
       "columnCustomDisplayInfos": {},
       "data": [
        [
         "HANDS"
        ],
        [
         "KNIFE"
        ],
        [
         "OTHER"
        ],
        [
         "FIRE"
        ],
        [
         "FIREARM"
        ]
       ],
       "datasetInfos": [],
       "dbfsResultPath": null,
       "isJsonSchema": true,
       "metadata": {},
       "overflow": false,
       "plotOptions": {
        "customPlotOptions": {},
        "displayType": "table",
        "pivotAggregation": null,
        "pivotColumns": null,
        "xColumns": null,
        "yColumns": null
       },
       "removedWidgets": [],
       "schema": [
        {
         "metadata": "{}",
         "name": "Weapon",
         "type": "\"string\""
        }
       ],
       "type": "table"
      }
     },
     "output_type": "display_data"
    }
   ],
   "source": [
    "#5\n",
    "not_weapon = [\"NA\",\"null\"]\n",
    "display(df\n",
    "       .filter(~F.col(\"Weapon\").isin(not_weapon))\n",
    "       .select(\"Weapon\")\n",
    "       .distinct()\n",
    "       )"
   ]
  },
  {
   "cell_type": "code",
   "execution_count": 0,
   "metadata": {
    "application/vnd.databricks.v1+cell": {
     "inputWidgets": {},
     "nuid": "26ecba90-6c7e-4ddc-b8ec-187ff1f87235",
     "showTitle": false,
     "title": ""
    }
   },
   "outputs": [
    {
     "data": {
      "text/html": [
       "<style scoped>\n",
       "  .ansiout {\n",
       "    display: block;\n",
       "    unicode-bidi: embed;\n",
       "    white-space: pre-wrap;\n",
       "    word-wrap: break-word;\n",
       "    word-break: break-all;\n",
       "    font-family: \"Source Code Pro\", \"Menlo\", monospace;;\n",
       "    font-size: 13px;\n",
       "    color: #555;\n",
       "    margin-left: 4px;\n",
       "    line-height: 19px;\n",
       "  }\n",
       "</style>\n",
       "<div class=\"ansiout\">FIREARM\n",
       "</div>"
      ]
     },
     "metadata": {
      "application/vnd.databricks.v1+output": {
       "addedWidgets": {},
       "arguments": {},
       "data": "<div class=\"ansiout\">FIREARM\n</div>",
       "datasetInfos": [],
       "metadata": {},
       "removedWidgets": [],
       "type": "html"
      }
     },
     "output_type": "display_data"
    }
   ],
   "source": [
    "#6\n",
    "print(df\n",
    "        .filter(~F.col(\"Weapon\").isin(not_weapon))\n",
    "        .groupBy(\"Weapon\")\n",
    "        .agg(F.count(\"Weapon\"))\n",
    "        .withColumnRenamed(\"count(Weapon)\", \"WeaponCount\")\n",
    "        .orderBy(\"WeaponCount\", ascending=False)\n",
    "        .first()[\"Weapon\"]\n",
    "        )"
   ]
  },
  {
   "cell_type": "code",
   "execution_count": 0,
   "metadata": {
    "application/vnd.databricks.v1+cell": {
     "inputWidgets": {},
     "nuid": "5f7801cd-0a89-474e-bd29-7781bcb86386",
     "showTitle": false,
     "title": ""
    }
   },
   "outputs": [],
   "source": []
  }
 ],
 "metadata": {
  "application/vnd.databricks.v1+notebook": {
   "dashboards": [],
   "language": "python",
   "notebookMetadata": {
    "pythonIndentUnit": 4
   },
   "notebookName": "learnings-notebook",
   "notebookOrigID": 3089458852488985,
   "widgets": {}
  },
  "kernelspec": {
   "display_name": "Python 3",
   "language": "python",
   "name": "python3"
  },
  "language_info": {
   "codemirror_mode": {
    "name": "ipython",
    "version": 3
   },
   "file_extension": ".py",
   "mimetype": "text/x-python",
   "name": "python",
   "nbconvert_exporter": "python",
   "pygments_lexer": "ipython3",
   "version": "3.8.3"
  }
 },
 "nbformat": 4,
 "nbformat_minor": 1
}
